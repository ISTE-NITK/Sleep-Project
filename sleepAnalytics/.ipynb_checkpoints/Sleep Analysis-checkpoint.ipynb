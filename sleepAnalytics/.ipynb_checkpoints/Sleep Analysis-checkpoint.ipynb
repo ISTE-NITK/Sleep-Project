{
 "cells": [
  {
   "cell_type": "code",
   "execution_count": 1,
   "metadata": {
    "collapsed": true
   },
   "outputs": [],
   "source": [
    "import pandas as pd\n",
    "import matplotlib.pyplot as plt\n",
    "import matplotlib\n",
    "from matplotlib.dates import date2num\n",
    "import datetime\n",
    "import matplotlib.dates as mdates\n",
    "import time\n",
    "import numpy as np\n",
    "from datetime import date\n",
    "import matplotlib.lines as mlines\n",
    "from mpl_toolkits.mplot3d import Axes3D\n",
    "import matplotlib.patches as mpatches\n",
    "import category_encoders as ce\n",
    "import glob\n",
    "from sklearn.cluster import KMeans"
   ]
  },
  {
   "cell_type": "code",
   "execution_count": 2,
   "metadata": {
    "collapsed": false
   },
   "outputs": [],
   "source": [
    "#Getting all the data\n",
    "def get_all_data(file_path):\n",
    "    \n",
    "    data = pd.DataFrame()\n",
    "    quality = pd.DataFrame()\n",
    "    \n",
    "    avg_illuminance = pd.DataFrame()\n",
    "    avg_airquaility = pd.DataFrame()\n",
    "    avg_temp = pd.DataFrame()\n",
    "    avg_humididty = pd.DataFrame()\n",
    "    avg_quality = pd.DataFrame()\n",
    "    \n",
    "    sleep_quality_data = get_data('/home/prajwal/Desktop/istesleep/data/sleepdata.csv',delim=';')\n",
    "    \n",
    "    for filename in glob.glob(file_path): \n",
    "        \n",
    "        df = pd.read_csv(filename)\n",
    "    \n",
    "        avg_illuminance = avg_illuminance.append([np.mean(df[' illuminance'])])\n",
    "        avg_airquaility = avg_airquaility.append([np.mean(df['airquality'])])\n",
    "        avg_temp = avg_temp.append([np.mean(df[' temperature'])])\n",
    "        avg_humididty = avg_humididty.append([np.mean(df[' humidity'])])\n",
    "        \n",
    "        date = df[' timestamp'].astype(str).str[:-22][0]\n",
    "        date = date[1:11]\n",
    "        \n",
    "        sleep_quality = get_sleep_quality(sleep_quality_data,date)\n",
    "        avg_quality = avg_quality.append(sleep_quality)\n",
    "        sleep_quality = sleep_quality*df.shape[0]\n",
    "        \n",
    "        quality_date = pd.DataFrame(sleep_quality)\n",
    "        quality = pd.concat([quality,quality_date],axis = 0,ignore_index=True)\n",
    "        \n",
    "        data = pd.concat([data,df],axis = 0,ignore_index=True)\n",
    "    \n",
    "    avg_data = pd.concat([avg_illuminance,avg_airquaility,avg_temp,avg_humididty,avg_quality],axis = 1,\\\n",
    "                        ignore_index=True)\n",
    "    data = pd.concat([data,quality],axis = 1)\n",
    "    \n",
    "    return [data, avg_data]"
   ]
  },
  {
   "cell_type": "code",
   "execution_count": 53,
   "metadata": {
    "collapsed": false
   },
   "outputs": [],
   "source": [
    "def split_data(data):\n",
    "    \n",
    "    data_light = data[data['illuminance']>50]\n",
    "    data_dark = data[data['illuminance']<50]\n",
    "    #data_dark = data_dark[data_dark['illuminance']>5]\n",
    "    \n",
    "    return [data_light, data_dark]"
   ]
  },
  {
   "cell_type": "code",
   "execution_count": null,
   "metadata": {
    "collapsed": false
   },
   "outputs": [],
   "source": [
    "def get_sleep_quality(data,date):\n",
    "    \n",
    "    x = data['Sleep quality'][data['End'].astype(str)==date].tolist()\n",
    "    \n",
    "    return x"
   ]
  },
  {
   "cell_type": "code",
   "execution_count": null,
   "metadata": {
    "collapsed": false
   },
   "outputs": [],
   "source": [
    "def get_data(filepath,delim=','):\n",
    "    \n",
    "    data = pd.read_csv(filepath,sep=delim)\n",
    "    \n",
    "    return data"
   ]
  },
  {
   "cell_type": "code",
   "execution_count": null,
   "metadata": {
    "collapsed": false
   },
   "outputs": [],
   "source": [
    "def data_sample(data):\n",
    "\n",
    "    data = data.iloc[::5, :]\n",
    "    \n",
    "    return data"
   ]
  },
  {
   "cell_type": "code",
   "execution_count": null,
   "metadata": {
    "collapsed": true
   },
   "outputs": [],
   "source": [
    "def data_to_csv(data,file_name):\n",
    "    \n",
    "    data.to_csv(file_name, sep=',')"
   ]
  },
  {
   "cell_type": "code",
   "execution_count": null,
   "metadata": {
    "collapsed": true
   },
   "outputs": [],
   "source": [
    "def convert_date(data):\n",
    "    \n",
    "    data[' timestamp'] = data[' timestamp'].astype(str).str[:-13]\n",
    "    data[' timestamp'] = pd.to_datetime(data[' timestamp'])\n",
    "    data['airquality'] = data['airquality'].astype(float)\n",
    "    \n",
    "    return data"
   ]
  },
  {
   "cell_type": "code",
   "execution_count": null,
   "metadata": {
    "collapsed": true
   },
   "outputs": [],
   "source": [
    "def plot_two(data, x,y):\n",
    "    \n",
    "    plt.scatter(data[x], data[y])\n",
    "    plt.axis('tight')\n",
    "    plt.ylabel(y)\n",
    "    plt.xlabel(x)\n",
    "    plt.show()"
   ]
  },
  {
   "cell_type": "code",
   "execution_count": null,
   "metadata": {
    "collapsed": true
   },
   "outputs": [],
   "source": [
    "def plot_simple(data,x,y,c='r',s = 40):\n",
    "    \n",
    "    plt.scatter(data[x], data[y], c = c,s=s, alpha=0.5)\n",
    "    plt.axis('tight')\n",
    "    plt.ylabel(y)\n",
    "    plt.xlabel(x)\n",
    "    plt.show()"
   ]
  },
  {
   "cell_type": "code",
   "execution_count": null,
   "metadata": {
    "collapsed": false
   },
   "outputs": [],
   "source": [
    "def plot(data,x,y,c='quality',s = 40):\n",
    "    \n",
    "    plt.scatter(data[x], data[y], c = data[c], s=s, alpha=0.5,cmap='viridis')\n",
    "    plt.axis('tight')\n",
    "    plt.colorbar()\n",
    "    plt.ylabel(y)\n",
    "    plt.xlabel(x)\n",
    "    plt.show()"
   ]
  },
  {
   "cell_type": "code",
   "execution_count": 54,
   "metadata": {
    "collapsed": false
   },
   "outputs": [],
   "source": [
    "#data, avg_data = get_all_data('/home/prajwal/Desktop/istesleep/data/Data/*.csv')\n",
    "data = pd.read_csv('/home/prajwal/Desktop/Data/Data.csv')\n",
    "avg_data = pd.read_csv('/home/prajwal/Desktop/Data/Avg_Data.csv')"
   ]
  },
  {
   "cell_type": "code",
   "execution_count": 55,
   "metadata": {
    "collapsed": false
   },
   "outputs": [],
   "source": [
    "#Splitting data into two components, day and night data.\n",
    "data_light,data_dark = split_data(data)"
   ]
  },
  {
   "cell_type": "code",
   "execution_count": 56,
   "metadata": {
    "collapsed": false
   },
   "outputs": [],
   "source": [
    "#Plot - pass parameters, data and the column names you want to plot. Color indicates sleep quality\n",
    "plot(data_dark,'illuminance','airquality')"
   ]
  },
  {
   "cell_type": "code",
   "execution_count": 15,
   "metadata": {
    "collapsed": true
   },
   "outputs": [],
   "source": [
    "#plot(avg_data,'avg_illuminance','avg_airquaility')"
   ]
  },
  {
   "cell_type": "code",
   "execution_count": 16,
   "metadata": {
    "collapsed": false
   },
   "outputs": [],
   "source": [
    "#plot(avg_data,'avg_illuminance','avg_airquaility')"
   ]
  },
  {
   "cell_type": "code",
   "execution_count": 17,
   "metadata": {
    "collapsed": true
   },
   "outputs": [],
   "source": [
    "#Plot - pass parameters, data and the column names you want to plot. \n",
    "#plot_two(data,'steps','quality')"
   ]
  },
  {
   "cell_type": "code",
   "execution_count": 18,
   "metadata": {
    "collapsed": false
   },
   "outputs": [],
   "source": [
    "#x = np.mean(data['steps'][data['quality']==70])"
   ]
  },
  {
   "cell_type": "code",
   "execution_count": 19,
   "metadata": {
    "collapsed": false
   },
   "outputs": [],
   "source": [
    "#y = np.mean(data['steps'][data['quality']==68])"
   ]
  },
  {
   "cell_type": "code",
   "execution_count": 20,
   "metadata": {
    "collapsed": false
   },
   "outputs": [],
   "source": [
    "#z = np.mean(data['steps'][data['quality']==75])"
   ]
  },
  {
   "cell_type": "code",
   "execution_count": 21,
   "metadata": {
    "collapsed": false
   },
   "outputs": [],
   "source": [
    "#v = np.mean(data['steps'][data['quality']==77])"
   ]
  },
  {
   "cell_type": "code",
   "execution_count": 22,
   "metadata": {
    "collapsed": false
   },
   "outputs": [],
   "source": [
    "#t = x*70 + y*68 + z*75 + v*77"
   ]
  },
  {
   "cell_type": "code",
   "execution_count": 23,
   "metadata": {
    "collapsed": false
   },
   "outputs": [],
   "source": [
    "#t/(70+71+75+77)"
   ]
  }
 ],
 "metadata": {
  "kernelspec": {
   "display_name": "Python 3",
   "language": "python",
   "name": "python3"
  },
  "language_info": {
   "codemirror_mode": {
    "name": "ipython",
    "version": 3
   },
   "file_extension": ".py",
   "mimetype": "text/x-python",
   "name": "python",
   "nbconvert_exporter": "python",
   "pygments_lexer": "ipython3",
   "version": "3.5.2"
  }
 },
 "nbformat": 4,
 "nbformat_minor": 0
}
